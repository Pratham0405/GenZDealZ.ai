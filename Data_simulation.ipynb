{
 "cells": [
  {
   "cell_type": "code",
   "execution_count": 12,
   "id": "6e5e5c23",
   "metadata": {},
   "outputs": [
    {
     "name": "stdout",
     "output_type": "stream",
     "text": [
      "Generated data for 1000 users and saved to 'simulated_purchase_history.json'.\n"
     ]
    }
   ],
   "source": [
    "import random\n",
    "import json\n",
    "\n",
    "# Fixed seed for reproducibility\n",
    "random.seed(42)\n",
    "\n",
    "# List of possible purchases\n",
    "possible_purchases = ['amazon', 'flipkart', 'myntra']\n",
    "\n",
    "def generate_purchase_history_balanced(num_users, max_purchases_per_user):\n",
    "    \n",
    "    data = []\n",
    "    num_categories = len(possible_purchases)\n",
    "    purchases_per_category = (num_users * max_purchases_per_user) // num_categories\n",
    "\n",
    "    category_count = {category: 0 for category in possible_purchases}\n",
    "    for i in range(1, num_users + 1):\n",
    "        user_id = f'user{i}'\n",
    "        num_purchases = random.randint(1, min(max_purchases_per_user, num_categories))\n",
    "        purchases = random.sample(possible_purchases, num_purchases)\n",
    "        \n",
    "        for purchase in purchases:\n",
    "            category_count[purchase] += 1\n",
    "            \n",
    "        data.append({'user': user_id, 'purchases': purchases})\n",
    "        \n",
    "    return data\n",
    "\n",
    "def save_data_to_file(data, filename):\n",
    "    \n",
    "    with open(filename, 'w') as file:\n",
    "        json.dump(data, file, indent=4)\n",
    "\n",
    "if __name__ == \"__main__\":\n",
    "    # Parameters\n",
    "    num_users = 1000\n",
    "    max_purchases_per_user = 10\n",
    "    \n",
    "    # Generate the data\n",
    "    simulated_data = generate_purchase_history_balanced(num_users, max_purchases_per_user)\n",
    "    \n",
    "    # Save the data to a file\n",
    "    save_data_to_file(simulated_data, 'simulated_purchase_history.json')\n",
    "\n",
    "    print(f\"Generated data for {num_users} users and saved to 'simulated_purchase_history.json'.\")\n"
   ]
  },
  {
   "cell_type": "code",
   "execution_count": 13,
   "id": "3363b154",
   "metadata": {},
   "outputs": [],
   "source": [
    "import pandas as pd"
   ]
  },
  {
   "cell_type": "code",
   "execution_count": 14,
   "id": "1dd90488",
   "metadata": {},
   "outputs": [
    {
     "data": {
      "text/html": [
       "<div>\n",
       "<style scoped>\n",
       "    .dataframe tbody tr th:only-of-type {\n",
       "        vertical-align: middle;\n",
       "    }\n",
       "\n",
       "    .dataframe tbody tr th {\n",
       "        vertical-align: top;\n",
       "    }\n",
       "\n",
       "    .dataframe thead th {\n",
       "        text-align: right;\n",
       "    }\n",
       "</style>\n",
       "<table border=\"1\" class=\"dataframe\">\n",
       "  <thead>\n",
       "    <tr style=\"text-align: right;\">\n",
       "      <th></th>\n",
       "      <th>user</th>\n",
       "      <th>purchases</th>\n",
       "    </tr>\n",
       "  </thead>\n",
       "  <tbody>\n",
       "    <tr>\n",
       "      <th>0</th>\n",
       "      <td>user1</td>\n",
       "      <td>[amazon, myntra, flipkart]</td>\n",
       "    </tr>\n",
       "    <tr>\n",
       "      <th>1</th>\n",
       "      <td>user2</td>\n",
       "      <td>[amazon]</td>\n",
       "    </tr>\n",
       "    <tr>\n",
       "      <th>2</th>\n",
       "      <td>user3</td>\n",
       "      <td>[myntra]</td>\n",
       "    </tr>\n",
       "    <tr>\n",
       "      <th>3</th>\n",
       "      <td>user4</td>\n",
       "      <td>[myntra]</td>\n",
       "    </tr>\n",
       "    <tr>\n",
       "      <th>4</th>\n",
       "      <td>user5</td>\n",
       "      <td>[myntra, amazon, flipkart]</td>\n",
       "    </tr>\n",
       "    <tr>\n",
       "      <th>...</th>\n",
       "      <td>...</td>\n",
       "      <td>...</td>\n",
       "    </tr>\n",
       "    <tr>\n",
       "      <th>995</th>\n",
       "      <td>user996</td>\n",
       "      <td>[myntra]</td>\n",
       "    </tr>\n",
       "    <tr>\n",
       "      <th>996</th>\n",
       "      <td>user997</td>\n",
       "      <td>[amazon]</td>\n",
       "    </tr>\n",
       "    <tr>\n",
       "      <th>997</th>\n",
       "      <td>user998</td>\n",
       "      <td>[myntra, amazon]</td>\n",
       "    </tr>\n",
       "    <tr>\n",
       "      <th>998</th>\n",
       "      <td>user999</td>\n",
       "      <td>[amazon, myntra, flipkart]</td>\n",
       "    </tr>\n",
       "    <tr>\n",
       "      <th>999</th>\n",
       "      <td>user1000</td>\n",
       "      <td>[amazon, flipkart, myntra]</td>\n",
       "    </tr>\n",
       "  </tbody>\n",
       "</table>\n",
       "<p>1000 rows × 2 columns</p>\n",
       "</div>"
      ],
      "text/plain": [
       "         user                   purchases\n",
       "0       user1  [amazon, myntra, flipkart]\n",
       "1       user2                    [amazon]\n",
       "2       user3                    [myntra]\n",
       "3       user4                    [myntra]\n",
       "4       user5  [myntra, amazon, flipkart]\n",
       "..        ...                         ...\n",
       "995   user996                    [myntra]\n",
       "996   user997                    [amazon]\n",
       "997   user998            [myntra, amazon]\n",
       "998   user999  [amazon, myntra, flipkart]\n",
       "999  user1000  [amazon, flipkart, myntra]\n",
       "\n",
       "[1000 rows x 2 columns]"
      ]
     },
     "execution_count": 14,
     "metadata": {},
     "output_type": "execute_result"
    }
   ],
   "source": [
    "pd.read_json('simulated_purchase_history.json')"
   ]
  },
  {
   "cell_type": "code",
   "execution_count": 15,
   "id": "46be4fb1",
   "metadata": {},
   "outputs": [
    {
     "name": "stdout",
     "output_type": "stream",
     "text": [
      "Generated data for 1000 users and saved to 'simulated_purchase_history.json'.\n"
     ]
    }
   ],
   "source": [
    "# Save the data to a file\n",
    "save_data_to_file(simulated_data, 'simulated_purchase_history.json')\n",
    "\n",
    "print(f\"Generated data for {num_users} users and saved to 'simulated_purchase_history.json'.\")"
   ]
  },
  {
   "cell_type": "code",
   "execution_count": null,
   "id": "5f8ca3e7",
   "metadata": {},
   "outputs": [],
   "source": []
  },
  {
   "cell_type": "code",
   "execution_count": null,
   "id": "a3b37a74",
   "metadata": {},
   "outputs": [],
   "source": []
  }
 ],
 "metadata": {
  "kernelspec": {
   "display_name": "Python 3 (ipykernel)",
   "language": "python",
   "name": "python3"
  },
  "language_info": {
   "codemirror_mode": {
    "name": "ipython",
    "version": 3
   },
   "file_extension": ".py",
   "mimetype": "text/x-python",
   "name": "python",
   "nbconvert_exporter": "python",
   "pygments_lexer": "ipython3",
   "version": "3.11.3"
  }
 },
 "nbformat": 4,
 "nbformat_minor": 5
}
